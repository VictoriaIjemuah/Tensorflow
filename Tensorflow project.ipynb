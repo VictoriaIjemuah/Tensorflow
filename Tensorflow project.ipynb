{
 "cells": [
  {
   "cell_type": "code",
   "execution_count": 1,
   "id": "78959da6-b3fe-49bb-8ea7-d264d1780b6a",
   "metadata": {},
   "outputs": [],
   "source": [
    "# to silence warnings\n",
    "import os\n",
    "os.environ['TF_CPP_MIN_LOG_LEVEL'] = '2'\n"
   ]
  },
  {
   "cell_type": "code",
   "execution_count": 2,
   "id": "ff0c09df-4426-42dc-8c0e-62ff1b5087ad",
   "metadata": {},
   "outputs": [],
   "source": [
    "import pandas as pd\n",
    "import numpy as np\n",
    "import matplotlib.pyplot as plt\n",
    "import seaborn as sns\n",
    "sns.set()"
   ]
  },
  {
   "cell_type": "code",
   "execution_count": 3,
   "id": "7048b993-ea13-45d3-911e-180cef8093a3",
   "metadata": {},
   "outputs": [],
   "source": [
    "# make numpy prinoit easier to read\n",
    "np.set_printoptions(precision = 3, suppress = True)"
   ]
  },
  {
   "cell_type": "code",
   "execution_count": null,
   "id": "88b463d2-6696-4db1-86cc-5ab26c504429",
   "metadata": {},
   "outputs": [],
   "source": [
    "import tensorflow as tf\n",
    "from tensorflow import keras\n",
    "from tensorflow.keras import layers\n",
    "from tensorflow.keras.layers.experimental import preprocessing"
   ]
  },
  {
   "cell_type": "markdown",
   "id": "7d0e6866-0106-4db4-9cb0-98e2d4e6f122",
   "metadata": {},
   "source": [
    "# Data Collection and cleaning"
   ]
  },
  {
   "cell_type": "code",
   "execution_count": 586,
   "id": "c46366af-f473-4143-b652-98e5b5020f50",
   "metadata": {},
   "outputs": [],
   "source": [
    "column = ['mpg', 'cylinders', 'Displacement', 'horsepower', 'weight', 'acceleration', 'model_year', 'origin', 'car_name']\n",
    "url = 'https://archive.ics.uci.edu/ml/machine-learning-databases/auto-mpg/auto-mpg.data'"
   ]
  },
  {
   "cell_type": "code",
   "execution_count": 587,
   "id": "da99d5cc-96ec-4d4a-ac9d-ce8e41a7888a",
   "metadata": {},
   "outputs": [],
   "source": [
    "df = pd.read_csv(url, names = column, na_values = '?', sep = '\\s+', skipinitialspace = True)"
   ]
  },
  {
   "cell_type": "code",
   "execution_count": 588,
   "id": "f7ab6d8b-5160-4f99-a418-3e177cf663dc",
   "metadata": {},
   "outputs": [
    {
     "data": {
      "text/html": [
       "<div>\n",
       "<style scoped>\n",
       "    .dataframe tbody tr th:only-of-type {\n",
       "        vertical-align: middle;\n",
       "    }\n",
       "\n",
       "    .dataframe tbody tr th {\n",
       "        vertical-align: top;\n",
       "    }\n",
       "\n",
       "    .dataframe thead th {\n",
       "        text-align: right;\n",
       "    }\n",
       "</style>\n",
       "<table border=\"1\" class=\"dataframe\">\n",
       "  <thead>\n",
       "    <tr style=\"text-align: right;\">\n",
       "      <th></th>\n",
       "      <th>mpg</th>\n",
       "      <th>cylinders</th>\n",
       "      <th>Displacement</th>\n",
       "      <th>horsepower</th>\n",
       "      <th>weight</th>\n",
       "      <th>acceleration</th>\n",
       "      <th>model_year</th>\n",
       "      <th>origin</th>\n",
       "      <th>car_name</th>\n",
       "    </tr>\n",
       "  </thead>\n",
       "  <tbody>\n",
       "    <tr>\n",
       "      <th>393</th>\n",
       "      <td>27.0</td>\n",
       "      <td>4</td>\n",
       "      <td>140.0</td>\n",
       "      <td>86.0</td>\n",
       "      <td>2790.0</td>\n",
       "      <td>15.6</td>\n",
       "      <td>82</td>\n",
       "      <td>1</td>\n",
       "      <td>ford mustang gl</td>\n",
       "    </tr>\n",
       "    <tr>\n",
       "      <th>394</th>\n",
       "      <td>44.0</td>\n",
       "      <td>4</td>\n",
       "      <td>97.0</td>\n",
       "      <td>52.0</td>\n",
       "      <td>2130.0</td>\n",
       "      <td>24.6</td>\n",
       "      <td>82</td>\n",
       "      <td>2</td>\n",
       "      <td>vw pickup</td>\n",
       "    </tr>\n",
       "    <tr>\n",
       "      <th>395</th>\n",
       "      <td>32.0</td>\n",
       "      <td>4</td>\n",
       "      <td>135.0</td>\n",
       "      <td>84.0</td>\n",
       "      <td>2295.0</td>\n",
       "      <td>11.6</td>\n",
       "      <td>82</td>\n",
       "      <td>1</td>\n",
       "      <td>dodge rampage</td>\n",
       "    </tr>\n",
       "    <tr>\n",
       "      <th>396</th>\n",
       "      <td>28.0</td>\n",
       "      <td>4</td>\n",
       "      <td>120.0</td>\n",
       "      <td>79.0</td>\n",
       "      <td>2625.0</td>\n",
       "      <td>18.6</td>\n",
       "      <td>82</td>\n",
       "      <td>1</td>\n",
       "      <td>ford ranger</td>\n",
       "    </tr>\n",
       "    <tr>\n",
       "      <th>397</th>\n",
       "      <td>31.0</td>\n",
       "      <td>4</td>\n",
       "      <td>119.0</td>\n",
       "      <td>82.0</td>\n",
       "      <td>2720.0</td>\n",
       "      <td>19.4</td>\n",
       "      <td>82</td>\n",
       "      <td>1</td>\n",
       "      <td>chevy s-10</td>\n",
       "    </tr>\n",
       "  </tbody>\n",
       "</table>\n",
       "</div>"
      ],
      "text/plain": [
       "      mpg  cylinders  Displacement  horsepower  weight  acceleration  \\\n",
       "393  27.0          4         140.0        86.0  2790.0          15.6   \n",
       "394  44.0          4          97.0        52.0  2130.0          24.6   \n",
       "395  32.0          4         135.0        84.0  2295.0          11.6   \n",
       "396  28.0          4         120.0        79.0  2625.0          18.6   \n",
       "397  31.0          4         119.0        82.0  2720.0          19.4   \n",
       "\n",
       "     model_year  origin         car_name  \n",
       "393          82       1  ford mustang gl  \n",
       "394          82       2        vw pickup  \n",
       "395          82       1    dodge rampage  \n",
       "396          82       1      ford ranger  \n",
       "397          82       1       chevy s-10  "
      ]
     },
     "execution_count": 588,
     "metadata": {},
     "output_type": "execute_result"
    }
   ],
   "source": [
    "df.tail(5)"
   ]
  },
  {
   "cell_type": "code",
   "execution_count": 589,
   "id": "f0cefed7-b484-4c8b-a4b0-ebcd1ea4b0ad",
   "metadata": {},
   "outputs": [],
   "source": [
    "# we do not need car_name columns\n",
    "df.drop(columns = ['car_name'], inplace = True)"
   ]
  },
  {
   "cell_type": "code",
   "execution_count": 590,
   "id": "f96af9a4-2400-45c8-aaf9-0cfe708be4fe",
   "metadata": {},
   "outputs": [
    {
     "name": "stdout",
     "output_type": "stream",
     "text": [
      "<class 'pandas.core.frame.DataFrame'>\n",
      "RangeIndex: 398 entries, 0 to 397\n",
      "Data columns (total 8 columns):\n",
      " #   Column        Non-Null Count  Dtype  \n",
      "---  ------        --------------  -----  \n",
      " 0   mpg           398 non-null    float64\n",
      " 1   cylinders     398 non-null    int64  \n",
      " 2   Displacement  398 non-null    float64\n",
      " 3   horsepower    392 non-null    float64\n",
      " 4   weight        398 non-null    float64\n",
      " 5   acceleration  398 non-null    float64\n",
      " 6   model_year    398 non-null    int64  \n",
      " 7   origin        398 non-null    int64  \n",
      "dtypes: float64(5), int64(3)\n",
      "memory usage: 25.0 KB\n"
     ]
    }
   ],
   "source": [
    "df.info()"
   ]
  },
  {
   "cell_type": "markdown",
   "id": "a955d754-472a-4231-8ad3-2df0de0aec95",
   "metadata": {},
   "source": [
    "### Let us check for missing or dupliacted values "
   ]
  },
  {
   "cell_type": "code",
   "execution_count": 591,
   "id": "53444962-19f6-4a02-bba8-e7266905e195",
   "metadata": {},
   "outputs": [
    {
     "data": {
      "text/plain": [
       "mpg             0\n",
       "cylinders       0\n",
       "Displacement    0\n",
       "horsepower      6\n",
       "weight          0\n",
       "acceleration    0\n",
       "model_year      0\n",
       "origin          0\n",
       "dtype: int64"
      ]
     },
     "execution_count": 591,
     "metadata": {},
     "output_type": "execute_result"
    }
   ],
   "source": [
    "df.isna().sum()"
   ]
  },
  {
   "cell_type": "code",
   "execution_count": 592,
   "id": "04587fbf-774b-4e3e-9a08-b00e1f236273",
   "metadata": {},
   "outputs": [],
   "source": [
    "df.dropna(inplace = True)"
   ]
  },
  {
   "cell_type": "code",
   "execution_count": 593,
   "id": "7814034c-02bd-4aec-8ba0-f568fce7d617",
   "metadata": {},
   "outputs": [
    {
     "data": {
      "text/plain": [
       "mpg             0\n",
       "cylinders       0\n",
       "Displacement    0\n",
       "horsepower      0\n",
       "weight          0\n",
       "acceleration    0\n",
       "model_year      0\n",
       "origin          0\n",
       "dtype: int64"
      ]
     },
     "execution_count": 593,
     "metadata": {},
     "output_type": "execute_result"
    }
   ],
   "source": [
    "df.isna().sum()"
   ]
  },
  {
   "cell_type": "code",
   "execution_count": 594,
   "id": "5669572c-fd9e-49b8-9099-69725a149d24",
   "metadata": {},
   "outputs": [
    {
     "data": {
      "text/plain": [
       "0"
      ]
     },
     "execution_count": 594,
     "metadata": {},
     "output_type": "execute_result"
    }
   ],
   "source": [
    "df.duplicated().sum()"
   ]
  },
  {
   "cell_type": "markdown",
   "id": "f87deb5e-084b-4647-8739-79ba3a0ebc01",
   "metadata": {},
   "source": [
    "We do not have any duplicated or missing values "
   ]
  },
  {
   "cell_type": "code",
   "execution_count": 595,
   "id": "76a1f20a-a357-40e7-aee3-e0a0a32eb84e",
   "metadata": {},
   "outputs": [
    {
     "data": {
      "text/html": [
       "<div>\n",
       "<style scoped>\n",
       "    .dataframe tbody tr th:only-of-type {\n",
       "        vertical-align: middle;\n",
       "    }\n",
       "\n",
       "    .dataframe tbody tr th {\n",
       "        vertical-align: top;\n",
       "    }\n",
       "\n",
       "    .dataframe thead th {\n",
       "        text-align: right;\n",
       "    }\n",
       "</style>\n",
       "<table border=\"1\" class=\"dataframe\">\n",
       "  <thead>\n",
       "    <tr style=\"text-align: right;\">\n",
       "      <th></th>\n",
       "      <th>count</th>\n",
       "      <th>mean</th>\n",
       "      <th>std</th>\n",
       "      <th>min</th>\n",
       "      <th>25%</th>\n",
       "      <th>50%</th>\n",
       "      <th>75%</th>\n",
       "      <th>max</th>\n",
       "    </tr>\n",
       "  </thead>\n",
       "  <tbody>\n",
       "    <tr>\n",
       "      <th>mpg</th>\n",
       "      <td>392.0</td>\n",
       "      <td>23.445918</td>\n",
       "      <td>7.805007</td>\n",
       "      <td>9.0</td>\n",
       "      <td>17.000</td>\n",
       "      <td>22.75</td>\n",
       "      <td>29.000</td>\n",
       "      <td>46.6</td>\n",
       "    </tr>\n",
       "    <tr>\n",
       "      <th>cylinders</th>\n",
       "      <td>392.0</td>\n",
       "      <td>5.471939</td>\n",
       "      <td>1.705783</td>\n",
       "      <td>3.0</td>\n",
       "      <td>4.000</td>\n",
       "      <td>4.00</td>\n",
       "      <td>8.000</td>\n",
       "      <td>8.0</td>\n",
       "    </tr>\n",
       "    <tr>\n",
       "      <th>Displacement</th>\n",
       "      <td>392.0</td>\n",
       "      <td>194.411990</td>\n",
       "      <td>104.644004</td>\n",
       "      <td>68.0</td>\n",
       "      <td>105.000</td>\n",
       "      <td>151.00</td>\n",
       "      <td>275.750</td>\n",
       "      <td>455.0</td>\n",
       "    </tr>\n",
       "    <tr>\n",
       "      <th>horsepower</th>\n",
       "      <td>392.0</td>\n",
       "      <td>104.469388</td>\n",
       "      <td>38.491160</td>\n",
       "      <td>46.0</td>\n",
       "      <td>75.000</td>\n",
       "      <td>93.50</td>\n",
       "      <td>126.000</td>\n",
       "      <td>230.0</td>\n",
       "    </tr>\n",
       "    <tr>\n",
       "      <th>weight</th>\n",
       "      <td>392.0</td>\n",
       "      <td>2977.584184</td>\n",
       "      <td>849.402560</td>\n",
       "      <td>1613.0</td>\n",
       "      <td>2225.250</td>\n",
       "      <td>2803.50</td>\n",
       "      <td>3614.750</td>\n",
       "      <td>5140.0</td>\n",
       "    </tr>\n",
       "    <tr>\n",
       "      <th>acceleration</th>\n",
       "      <td>392.0</td>\n",
       "      <td>15.541327</td>\n",
       "      <td>2.758864</td>\n",
       "      <td>8.0</td>\n",
       "      <td>13.775</td>\n",
       "      <td>15.50</td>\n",
       "      <td>17.025</td>\n",
       "      <td>24.8</td>\n",
       "    </tr>\n",
       "    <tr>\n",
       "      <th>model_year</th>\n",
       "      <td>392.0</td>\n",
       "      <td>75.979592</td>\n",
       "      <td>3.683737</td>\n",
       "      <td>70.0</td>\n",
       "      <td>73.000</td>\n",
       "      <td>76.00</td>\n",
       "      <td>79.000</td>\n",
       "      <td>82.0</td>\n",
       "    </tr>\n",
       "    <tr>\n",
       "      <th>origin</th>\n",
       "      <td>392.0</td>\n",
       "      <td>1.576531</td>\n",
       "      <td>0.805518</td>\n",
       "      <td>1.0</td>\n",
       "      <td>1.000</td>\n",
       "      <td>1.00</td>\n",
       "      <td>2.000</td>\n",
       "      <td>3.0</td>\n",
       "    </tr>\n",
       "  </tbody>\n",
       "</table>\n",
       "</div>"
      ],
      "text/plain": [
       "              count         mean         std     min       25%      50%  \\\n",
       "mpg           392.0    23.445918    7.805007     9.0    17.000    22.75   \n",
       "cylinders     392.0     5.471939    1.705783     3.0     4.000     4.00   \n",
       "Displacement  392.0   194.411990  104.644004    68.0   105.000   151.00   \n",
       "horsepower    392.0   104.469388   38.491160    46.0    75.000    93.50   \n",
       "weight        392.0  2977.584184  849.402560  1613.0  2225.250  2803.50   \n",
       "acceleration  392.0    15.541327    2.758864     8.0    13.775    15.50   \n",
       "model_year    392.0    75.979592    3.683737    70.0    73.000    76.00   \n",
       "origin        392.0     1.576531    0.805518     1.0     1.000     1.00   \n",
       "\n",
       "                   75%     max  \n",
       "mpg             29.000    46.6  \n",
       "cylinders        8.000     8.0  \n",
       "Displacement   275.750   455.0  \n",
       "horsepower     126.000   230.0  \n",
       "weight        3614.750  5140.0  \n",
       "acceleration    17.025    24.8  \n",
       "model_year      79.000    82.0  \n",
       "origin           2.000     3.0  "
      ]
     },
     "execution_count": 595,
     "metadata": {},
     "output_type": "execute_result"
    }
   ],
   "source": [
    "df.describe().transpose()"
   ]
  },
  {
   "cell_type": "markdown",
   "id": "57f2e0fa-a0bf-497e-95d9-00d77d8d0435",
   "metadata": {},
   "source": [
    "# Data Formatting"
   ]
  },
  {
   "cell_type": "code",
   "execution_count": 596,
   "id": "f2314bca-1b0c-41f4-a7d0-946972543fdf",
   "metadata": {},
   "outputs": [],
   "source": [
    "# let us convert the origin data series into labesl using hot one encoding"
   ]
  },
  {
   "cell_type": "code",
   "execution_count": 597,
   "id": "867b91a2-5b50-4768-a28f-8233e3323769",
   "metadata": {},
   "outputs": [],
   "source": [
    "df['USA'] = (df['origin'] == 1)*1\n",
    "df['Canada'] = (df['origin'] ==2)*1\n",
    "df['Uk'] = (df['origin'] == 3)*1"
   ]
  },
  {
   "cell_type": "code",
   "execution_count": 598,
   "id": "80d7b46d-89e4-46c4-a6e8-ea2be7be8094",
   "metadata": {},
   "outputs": [],
   "source": [
    "# let us drop the origin series\n",
    "df.drop(columns = ['origin'], inplace = True)"
   ]
  },
  {
   "cell_type": "code",
   "execution_count": 599,
   "id": "cef64b15-8737-4fbf-8285-3341c82eeacc",
   "metadata": {},
   "outputs": [],
   "source": [
    "# Let us check all the data types  are in the right format"
   ]
  },
  {
   "cell_type": "code",
   "execution_count": 600,
   "id": "93e7019b-09ad-4366-a492-bcc8d7460598",
   "metadata": {},
   "outputs": [
    {
     "name": "stdout",
     "output_type": "stream",
     "text": [
      "<class 'pandas.core.frame.DataFrame'>\n",
      "Index: 392 entries, 0 to 397\n",
      "Data columns (total 10 columns):\n",
      " #   Column        Non-Null Count  Dtype  \n",
      "---  ------        --------------  -----  \n",
      " 0   mpg           392 non-null    float64\n",
      " 1   cylinders     392 non-null    int64  \n",
      " 2   Displacement  392 non-null    float64\n",
      " 3   horsepower    392 non-null    float64\n",
      " 4   weight        392 non-null    float64\n",
      " 5   acceleration  392 non-null    float64\n",
      " 6   model_year    392 non-null    int64  \n",
      " 7   USA           392 non-null    int32  \n",
      " 8   Canada        392 non-null    int32  \n",
      " 9   Uk            392 non-null    int32  \n",
      "dtypes: float64(5), int32(3), int64(2)\n",
      "memory usage: 29.1 KB\n"
     ]
    }
   ],
   "source": [
    "df.info()"
   ]
  },
  {
   "cell_type": "code",
   "execution_count": 601,
   "id": "2c5fcf03-5634-4a0c-8266-40292cf5a411",
   "metadata": {},
   "outputs": [
    {
     "data": {
      "text/plain": [
       "array([[<Axes: title={'center': 'mpg'}>,\n",
       "        <Axes: title={'center': 'cylinders'}>,\n",
       "        <Axes: title={'center': 'Displacement'}>],\n",
       "       [<Axes: title={'center': 'horsepower'}>,\n",
       "        <Axes: title={'center': 'weight'}>,\n",
       "        <Axes: title={'center': 'acceleration'}>],\n",
       "       [<Axes: title={'center': 'model_year'}>,\n",
       "        <Axes: title={'center': 'USA'}>,\n",
       "        <Axes: title={'center': 'Canada'}>],\n",
       "       [<Axes: title={'center': 'Uk'}>, <Axes: >, <Axes: >]], dtype=object)"
      ]
     },
     "execution_count": 601,
     "metadata": {},
     "output_type": "execute_result"
    },
    {
     "data": {
      "image/png": "[encoded data removed]",
      "text/plain": [
       "<Figure size 1500x1000 with 12 Axes>"
      ]
     },
     "metadata": {},
     "output_type": "display_data"
    }
   ],
   "source": [
    "df.hist(figsize = (15, 10))"
   ]
  },
  {
   "cell_type": "code",
   "execution_count": 602,
   "id": "15b48ad4-ac8e-491e-aac5-4ab9bac91385",
   "metadata": {},
   "outputs": [
    {
     "data": {
      "text/plain": [
       "392"
      ]
     },
     "execution_count": 602,
     "metadata": {},
     "output_type": "execute_result"
    }
   ],
   "source": [
    "len(df['horsepower'])\n",
    "len(df['mpg'])"
   ]
  },
  {
   "cell_type": "code",
   "execution_count": null,
   "id": "06c62d8c-efdd-4c4c-ade1-f28f2cf0e17b",
   "metadata": {},
   "outputs": [],
   "source": []
  },
  {
   "cell_type": "code",
   "execution_count": 542,
   "id": "08ad12d5-58d5-411a-b5b5-dab46b4f3326",
   "metadata": {},
   "outputs": [],
   "source": [
    "corr_matrix = df.corr()"
   ]
  },
  {
   "cell_type": "code",
   "execution_count": 543,
   "id": "0c500ffe-7093-4b13-8d7d-98ffb3ce5128",
   "metadata": {},
   "outputs": [
    {
     "data": {
      "image/png": "[encoded data removed]",
      "text/plain": [
       "<Figure size 800x500 with 2 Axes>"
      ]
     },
     "metadata": {},
     "output_type": "display_data"
    }
   ],
   "source": [
    "plt.figure(figsize = (8,5))\n",
    "sns.heatmap(corr_matrix, annot = True, fmt = '.2f', linewidth = .5)\n",
    "plt.title('Correlation Matrix Heatmap')\n",
    "plt.show()"
   ]
  },
  {
   "cell_type": "markdown",
   "id": "ac6eb32b-92d0-4644-b19f-af79b0ad4905",
   "metadata": {},
   "source": [
    "# Feature Scaling"
   ]
  },
  {
   "cell_type": "code",
   "execution_count": 544,
   "id": "f4206c90-c844-47a6-b643-ee0c59d2199a",
   "metadata": {},
   "outputs": [
    {
     "data": {
      "text/html": [
       "<div>\n",
       "<style scoped>\n",
       "    .dataframe tbody tr th:only-of-type {\n",
       "        vertical-align: middle;\n",
       "    }\n",
       "\n",
       "    .dataframe tbody tr th {\n",
       "        vertical-align: top;\n",
       "    }\n",
       "\n",
       "    .dataframe thead th {\n",
       "        text-align: right;\n",
       "    }\n",
       "</style>\n",
       "<table border=\"1\" class=\"dataframe\">\n",
       "  <thead>\n",
       "    <tr style=\"text-align: right;\">\n",
       "      <th></th>\n",
       "      <th>mpg</th>\n",
       "      <th>cylinders</th>\n",
       "      <th>Displacement</th>\n",
       "      <th>horsepower</th>\n",
       "      <th>weight</th>\n",
       "      <th>acceleration</th>\n",
       "      <th>model_year</th>\n",
       "      <th>USA</th>\n",
       "      <th>Canada</th>\n",
       "      <th>Uk</th>\n",
       "    </tr>\n",
       "  </thead>\n",
       "  <tbody>\n",
       "    <tr>\n",
       "      <th>count</th>\n",
       "      <td>392.000000</td>\n",
       "      <td>392.000000</td>\n",
       "      <td>392.000000</td>\n",
       "      <td>392.000000</td>\n",
       "      <td>392.000000</td>\n",
       "      <td>392.000000</td>\n",
       "      <td>392.000000</td>\n",
       "      <td>392.000000</td>\n",
       "      <td>392.000000</td>\n",
       "      <td>392.000000</td>\n",
       "    </tr>\n",
       "    <tr>\n",
       "      <th>mean</th>\n",
       "      <td>23.445918</td>\n",
       "      <td>5.471939</td>\n",
       "      <td>194.411990</td>\n",
       "      <td>104.469388</td>\n",
       "      <td>2977.584184</td>\n",
       "      <td>15.541327</td>\n",
       "      <td>75.979592</td>\n",
       "      <td>0.625000</td>\n",
       "      <td>0.173469</td>\n",
       "      <td>0.201531</td>\n",
       "    </tr>\n",
       "    <tr>\n",
       "      <th>std</th>\n",
       "      <td>7.805007</td>\n",
       "      <td>1.705783</td>\n",
       "      <td>104.644004</td>\n",
       "      <td>38.491160</td>\n",
       "      <td>849.402560</td>\n",
       "      <td>2.758864</td>\n",
       "      <td>3.683737</td>\n",
       "      <td>0.484742</td>\n",
       "      <td>0.379136</td>\n",
       "      <td>0.401656</td>\n",
       "    </tr>\n",
       "    <tr>\n",
       "      <th>min</th>\n",
       "      <td>9.000000</td>\n",
       "      <td>3.000000</td>\n",
       "      <td>68.000000</td>\n",
       "      <td>46.000000</td>\n",
       "      <td>1613.000000</td>\n",
       "      <td>8.000000</td>\n",
       "      <td>70.000000</td>\n",
       "      <td>0.000000</td>\n",
       "      <td>0.000000</td>\n",
       "      <td>0.000000</td>\n",
       "    </tr>\n",
       "    <tr>\n",
       "      <th>25%</th>\n",
       "      <td>17.000000</td>\n",
       "      <td>4.000000</td>\n",
       "      <td>105.000000</td>\n",
       "      <td>75.000000</td>\n",
       "      <td>2225.250000</td>\n",
       "      <td>13.775000</td>\n",
       "      <td>73.000000</td>\n",
       "      <td>0.000000</td>\n",
       "      <td>0.000000</td>\n",
       "      <td>0.000000</td>\n",
       "    </tr>\n",
       "    <tr>\n",
       "      <th>50%</th>\n",
       "      <td>22.750000</td>\n",
       "      <td>4.000000</td>\n",
       "      <td>151.000000</td>\n",
       "      <td>93.500000</td>\n",
       "      <td>2803.500000</td>\n",
       "      <td>15.500000</td>\n",
       "      <td>76.000000</td>\n",
       "      <td>1.000000</td>\n",
       "      <td>0.000000</td>\n",
       "      <td>0.000000</td>\n",
       "    </tr>\n",
       "    <tr>\n",
       "      <th>75%</th>\n",
       "      <td>29.000000</td>\n",
       "      <td>8.000000</td>\n",
       "      <td>275.750000</td>\n",
       "      <td>126.000000</td>\n",
       "      <td>3614.750000</td>\n",
       "      <td>17.025000</td>\n",
       "      <td>79.000000</td>\n",
       "      <td>1.000000</td>\n",
       "      <td>0.000000</td>\n",
       "      <td>0.000000</td>\n",
       "    </tr>\n",
       "    <tr>\n",
       "      <th>max</th>\n",
       "      <td>46.600000</td>\n",
       "      <td>8.000000</td>\n",
       "      <td>455.000000</td>\n",
       "      <td>230.000000</td>\n",
       "      <td>5140.000000</td>\n",
       "      <td>24.800000</td>\n",
       "      <td>82.000000</td>\n",
       "      <td>1.000000</td>\n",
       "      <td>1.000000</td>\n",
       "      <td>1.000000</td>\n",
       "    </tr>\n",
       "  </tbody>\n",
       "</table>\n",
       "</div>"
      ],
      "text/plain": [
       "              mpg   cylinders  Displacement  horsepower       weight  \\\n",
       "count  392.000000  392.000000    392.000000  392.000000   392.000000   \n",
       "mean    23.445918    5.471939    194.411990  104.469388  2977.584184   \n",
       "std      7.805007    1.705783    104.644004   38.491160   849.402560   \n",
       "min      9.000000    3.000000     68.000000   46.000000  1613.000000   \n",
       "25%     17.000000    4.000000    105.000000   75.000000  2225.250000   \n",
       "50%     22.750000    4.000000    151.000000   93.500000  2803.500000   \n",
       "75%     29.000000    8.000000    275.750000  126.000000  3614.750000   \n",
       "max     46.600000    8.000000    455.000000  230.000000  5140.000000   \n",
       "\n",
       "       acceleration  model_year         USA      Canada          Uk  \n",
       "count    392.000000  392.000000  392.000000  392.000000  392.000000  \n",
       "mean      15.541327   75.979592    0.625000    0.173469    0.201531  \n",
       "std        2.758864    3.683737    0.484742    0.379136    0.401656  \n",
       "min        8.000000   70.000000    0.000000    0.000000    0.000000  \n",
       "25%       13.775000   73.000000    0.000000    0.000000    0.000000  \n",
       "50%       15.500000   76.000000    1.000000    0.000000    0.000000  \n",
       "75%       17.025000   79.000000    1.000000    0.000000    0.000000  \n",
       "max       24.800000   82.000000    1.000000    1.000000    1.000000  "
      ]
     },
     "execution_count": 544,
     "metadata": {},
     "output_type": "execute_result"
    }
   ],
   "source": [
    "df.describe()"
   ]
  },
  {
   "cell_type": "code",
   "execution_count": 545,
   "id": "431f31b0-cd65-463d-9598-4e2329e916de",
   "metadata": {},
   "outputs": [],
   "source": [
    "from sklearn import preprocessing"
   ]
  },
  {
   "cell_type": "code",
   "execution_count": 546,
   "id": "d1fa90c2-5be5-4073-acf5-90730e8278c7",
   "metadata": {},
   "outputs": [],
   "source": [
    "x = df.drop(columns = ['mpg'])"
   ]
  },
  {
   "cell_type": "code",
   "execution_count": 547,
   "id": "b6d4990e-9efe-4d34-9cad-d53f12aa65f1",
   "metadata": {},
   "outputs": [],
   "source": [
    "y = df['mpg']"
   ]
  },
  {
   "cell_type": "code",
   "execution_count": 548,
   "id": "40d957c0-a575-4bc2-b6b1-8c5c7c057d51",
   "metadata": {},
   "outputs": [],
   "source": [
    "scaled_x = preprocessing.scale(x)"
   ]
  },
  {
   "cell_type": "code",
   "execution_count": 549,
   "id": "3c49342e-fd60-4e32-8a55-af1374c91d10",
   "metadata": {},
   "outputs": [],
   "source": [
    "scaled_y = preprocessing.scale(y)"
   ]
  },
  {
   "cell_type": "markdown",
   "id": "83c3390c-30cd-468b-8493-85d5b5c8ab58",
   "metadata": {},
   "source": [
    "# Shuffling the data"
   ]
  },
  {
   "cell_type": "code",
   "execution_count": 550,
   "id": "f233d86a-44d7-43a7-bf4e-80e48ccb97d6",
   "metadata": {},
   "outputs": [],
   "source": [
    "shuffled_indexX = np.arange(scaled_x.shape[0])\n",
    "np.random.shuffle(shuffled_indexX)"
   ]
  },
  {
   "cell_type": "code",
   "execution_count": 551,
   "id": "c1e8f4fc-6f8e-45a8-8cc4-2b32dd3638d7",
   "metadata": {},
   "outputs": [],
   "source": [
    "shuffled_x = scaled_x[shuffled_indexX]"
   ]
  },
  {
   "cell_type": "code",
   "execution_count": 552,
   "id": "87b2c6a5-1317-4e01-a174-18a2e57c4efa",
   "metadata": {},
   "outputs": [],
   "source": [
    "shuffled_y = scaled_y[shuffled_indexX]"
   ]
  },
  {
   "cell_type": "markdown",
   "id": "4279b9e6-6ea7-4d2f-9667-f14da0cea3c2",
   "metadata": {},
   "source": [
    "# Split into train and test"
   ]
  },
  {
   "cell_type": "code",
   "execution_count": 553,
   "id": "cf6f6dc0-a7e3-472d-b5bb-c8fe3dc06b84",
   "metadata": {},
   "outputs": [],
   "source": [
    "shuffled_X_count = shuffled_x.shape[0]"
   ]
  },
  {
   "cell_type": "code",
   "execution_count": 554,
   "id": "37d85808-6dc7-472c-9202-22399907bd82",
   "metadata": {},
   "outputs": [],
   "source": [
    "train_count = int(0.8 * shuffled_X_count)"
   ]
  },
  {
   "cell_type": "code",
   "execution_count": 555,
   "id": "101ac43c-f70e-44b4-93c3-204bfc6e894e",
   "metadata": {},
   "outputs": [],
   "source": [
    "test_count = int(shuffled_X_count -  train_count)"
   ]
  },
  {
   "cell_type": "code",
   "execution_count": 556,
   "id": "b51314f6-f167-4fbf-9905-58d1e9417e52",
   "metadata": {},
   "outputs": [],
   "source": [
    "x_train = shuffled_x[:train_count]"
   ]
  },
  {
   "cell_type": "code",
   "execution_count": 557,
   "id": "1aa1f5d5-041b-493e-a4f7-5db92e16de07",
   "metadata": {},
   "outputs": [],
   "source": [
    "y_train = shuffled_y[:train_count]"
   ]
  },
  {
   "cell_type": "code",
   "execution_count": 558,
   "id": "3c20014e-e8cc-463c-8469-c0de7b052858",
   "metadata": {},
   "outputs": [],
   "source": [
    "x_test = shuffled_x[train_count :]\n",
    "y_test = shuffled_y[train_count :]"
   ]
  },
  {
   "cell_type": "markdown",
   "id": "ecc2b0ad-6fdf-4c12-afad-382c4e5e7284",
   "metadata": {},
   "source": [
    "# Let us save in npz format"
   ]
  },
  {
   "cell_type": "code",
   "execution_count": 559,
   "id": "7b75dfae-0b32-453e-81b1-72a911359e6d",
   "metadata": {},
   "outputs": [],
   "source": [
    "np.savez('autompg_train.npz', inputs = x_train, targets = y_train)\n",
    "np.savez('autompg_test.npz', inputs = x_test, targets = y_test)"
   ]
  },
  {
   "cell_type": "markdown",
   "id": "ba63365a-e51e-432b-b714-1b4beef397e9",
   "metadata": {},
   "source": [
    "# Machine learning"
   ]
  },
  {
   "cell_type": "markdown",
   "id": "1d808428-839c-4d8f-91ac-e6de4a8d161f",
   "metadata": {},
   "source": [
    "### load the data"
   ]
  },
  {
   "cell_type": "code",
   "execution_count": 560,
   "id": "e686f154-f3ea-4d9c-81b4-b9aa6e5eef2d",
   "metadata": {},
   "outputs": [],
   "source": [
    "npz = np.load('autompg_train.npz')"
   ]
  },
  {
   "cell_type": "code",
   "execution_count": 561,
   "id": "a0c446c7-dca9-40e1-8b1c-52857d6b63d6",
   "metadata": {},
   "outputs": [],
   "source": [
    "train_inputs, train_targets = npz['inputs'].astype(float), npz['targets'].astype(float)"
   ]
  },
  {
   "cell_type": "code",
   "execution_count": 562,
   "id": "5c7e752e-1582-4a51-a164-a6a2ae4fbadd",
   "metadata": {},
   "outputs": [],
   "source": [
    "npz = np.load('autompg_test.npz')"
   ]
  },
  {
   "cell_type": "code",
   "execution_count": 563,
   "id": "6b2f5ba3-5e83-437c-8791-541d0a16643f",
   "metadata": {},
   "outputs": [],
   "source": [
    "test_inputs, test_targets = npz['inputs'].astype(float), npz['targets'].astype(float)"
   ]
  },
  {
   "cell_type": "markdown",
   "id": "ef6659fa-ce0e-41eb-827e-145627f8575f",
   "metadata": {},
   "source": [
    "### model"
   ]
  },
  {
   "cell_type": "code",
   "execution_count": 564,
   "id": "77723e98-12fe-4a33-8b53-d74c2d7b97ab",
   "metadata": {},
   "outputs": [],
   "source": [
    "input_size = 392\n",
    "output_size = 392\n",
    "hidden_layers_size = 2"
   ]
  },
  {
   "cell_type": "code",
   "execution_count": 565,
   "id": "e7011954-89e3-4daf-9e82-b301782c51ba",
   "metadata": {},
   "outputs": [],
   "source": [
    "model = tf.keras.Sequential([\n",
    "    tf.keras.layers.Dense(hidden_layers_size, activation = 'relu'),\n",
    "    tf.keras.layers.Dense(hidden_layers_size, activation = 'relu'),\n",
    "    tf.keras.layers.Dense(output_size, activation = 'softmax')\n",
    "])"
   ]
  },
  {
   "cell_type": "code",
   "execution_count": 566,
   "id": "708a5069-24a6-408f-85cd-e8584249ff3e",
   "metadata": {},
   "outputs": [],
   "source": [
    "model.compile(optimizer = 'Adam', loss = 'sparse_categorical_crossentropy', metrics = ['accuracy'])"
   ]
  },
  {
   "cell_type": "code",
   "execution_count": 567,
   "id": "830576fc-b3ee-4318-9859-e9299dc1533d",
   "metadata": {},
   "outputs": [],
   "source": [
    "batch_size = 100\n",
    "max_epochs = 100\n"
   ]
  },
  {
   "cell_type": "code",
   "execution_count": 572,
   "id": "9118be6b-8449-41de-9c11-7fbef306a816",
   "metadata": {},
   "outputs": [
    {
     "name": "stdout",
     "output_type": "stream",
     "text": [
      "Epoch 1/100\n",
      "4/4 - 0s - loss: 5.9690 - accuracy: 0.0319 - 29ms/epoch - 7ms/step\n",
      "Epoch 2/100\n",
      "4/4 - 0s - loss: 5.9527 - accuracy: 0.0415 - 31ms/epoch - 8ms/step\n",
      "Epoch 3/100\n",
      "4/4 - 0s - loss: 5.9349 - accuracy: 0.0863 - 30ms/epoch - 8ms/step\n",
      "Epoch 4/100\n",
      "4/4 - 0s - loss: 5.9167 - accuracy: 0.1118 - 29ms/epoch - 7ms/step\n",
      "Epoch 5/100\n",
      "4/4 - 0s - loss: 5.8979 - accuracy: 0.1597 - 36ms/epoch - 9ms/step\n",
      "Epoch 6/100\n",
      "4/4 - 0s - loss: 5.8783 - accuracy: 0.2204 - 34ms/epoch - 9ms/step\n",
      "Epoch 7/100\n",
      "4/4 - 0s - loss: 5.8580 - accuracy: 0.2780 - 31ms/epoch - 8ms/step\n",
      "Epoch 8/100\n",
      "4/4 - 0s - loss: 5.8368 - accuracy: 0.3738 - 31ms/epoch - 8ms/step\n",
      "Epoch 9/100\n",
      "4/4 - 0s - loss: 5.8152 - accuracy: 0.4984 - 32ms/epoch - 8ms/step\n",
      "Epoch 10/100\n",
      "4/4 - 0s - loss: 5.7922 - accuracy: 0.5463 - 19ms/epoch - 5ms/step\n",
      "Epoch 11/100\n",
      "4/4 - 0s - loss: 5.7682 - accuracy: 0.5463 - 27ms/epoch - 7ms/step\n",
      "Epoch 12/100\n",
      "4/4 - 0s - loss: 5.7432 - accuracy: 0.5463 - 29ms/epoch - 7ms/step\n",
      "Epoch 13/100\n",
      "4/4 - 0s - loss: 5.7168 - accuracy: 0.5463 - 20ms/epoch - 5ms/step\n",
      "Epoch 14/100\n",
      "4/4 - 0s - loss: 5.6894 - accuracy: 0.5463 - 28ms/epoch - 7ms/step\n",
      "Epoch 15/100\n",
      "4/4 - 0s - loss: 5.6607 - accuracy: 0.5463 - 30ms/epoch - 8ms/step\n",
      "Epoch 16/100\n",
      "4/4 - 0s - loss: 5.6302 - accuracy: 0.5463 - 28ms/epoch - 7ms/step\n",
      "Epoch 17/100\n",
      "4/4 - 0s - loss: 5.5986 - accuracy: 0.5463 - 28ms/epoch - 7ms/step\n",
      "Epoch 18/100\n",
      "4/4 - 0s - loss: 5.5658 - accuracy: 0.5463 - 25ms/epoch - 6ms/step\n",
      "Epoch 19/100\n",
      "4/4 - 0s - loss: 5.5309 - accuracy: 0.5463 - 23ms/epoch - 6ms/step\n",
      "Epoch 20/100\n",
      "4/4 - 0s - loss: 5.4943 - accuracy: 0.5463 - 26ms/epoch - 6ms/step\n",
      "Epoch 21/100\n",
      "4/4 - 0s - loss: 5.4564 - accuracy: 0.5463 - 29ms/epoch - 7ms/step\n",
      "Epoch 22/100\n",
      "4/4 - 0s - loss: 5.4164 - accuracy: 0.5463 - 29ms/epoch - 7ms/step\n",
      "Epoch 23/100\n",
      "4/4 - 0s - loss: 5.3744 - accuracy: 0.5463 - 30ms/epoch - 8ms/step\n",
      "Epoch 24/100\n",
      "4/4 - 0s - loss: 5.3312 - accuracy: 0.5463 - 25ms/epoch - 6ms/step\n",
      "Epoch 25/100\n",
      "4/4 - 0s - loss: 5.2855 - accuracy: 0.5463 - 24ms/epoch - 6ms/step\n",
      "Epoch 26/100\n",
      "4/4 - 0s - loss: 5.2386 - accuracy: 0.5463 - 23ms/epoch - 6ms/step\n",
      "Epoch 27/100\n",
      "4/4 - 0s - loss: 5.1891 - accuracy: 0.5463 - 33ms/epoch - 8ms/step\n",
      "Epoch 28/100\n",
      "4/4 - 0s - loss: 5.1374 - accuracy: 0.5463 - 23ms/epoch - 6ms/step\n",
      "Epoch 29/100\n",
      "4/4 - 0s - loss: 5.0833 - accuracy: 0.5463 - 28ms/epoch - 7ms/step\n",
      "Epoch 30/100\n",
      "4/4 - 0s - loss: 5.0281 - accuracy: 0.5463 - 28ms/epoch - 7ms/step\n",
      "Epoch 31/100\n",
      "4/4 - 0s - loss: 4.9695 - accuracy: 0.5463 - 23ms/epoch - 6ms/step\n",
      "Epoch 32/100\n",
      "4/4 - 0s - loss: 4.9094 - accuracy: 0.5463 - 28ms/epoch - 7ms/step\n",
      "Epoch 33/100\n",
      "4/4 - 0s - loss: 4.8462 - accuracy: 0.5463 - 26ms/epoch - 6ms/step\n",
      "Epoch 34/100\n",
      "4/4 - 0s - loss: 4.7820 - accuracy: 0.5463 - 24ms/epoch - 6ms/step\n",
      "Epoch 35/100\n",
      "4/4 - 0s - loss: 4.7141 - accuracy: 0.5463 - 25ms/epoch - 6ms/step\n",
      "Epoch 36/100\n",
      "4/4 - 0s - loss: 4.6438 - accuracy: 0.5463 - 23ms/epoch - 6ms/step\n",
      "Epoch 37/100\n",
      "4/4 - 0s - loss: 4.5712 - accuracy: 0.5463 - 25ms/epoch - 6ms/step\n",
      "Epoch 38/100\n",
      "4/4 - 0s - loss: 4.4966 - accuracy: 0.5463 - 19ms/epoch - 5ms/step\n",
      "Epoch 39/100\n",
      "4/4 - 0s - loss: 4.4191 - accuracy: 0.5463 - 24ms/epoch - 6ms/step\n",
      "Epoch 40/100\n",
      "4/4 - 0s - loss: 4.3407 - accuracy: 0.5463 - 23ms/epoch - 6ms/step\n",
      "Epoch 41/100\n",
      "4/4 - 0s - loss: 4.2601 - accuracy: 0.5463 - 21ms/epoch - 5ms/step\n",
      "Epoch 42/100\n",
      "4/4 - 0s - loss: 4.1774 - accuracy: 0.5463 - 21ms/epoch - 5ms/step\n",
      "Epoch 43/100\n",
      "4/4 - 0s - loss: 4.0924 - accuracy: 0.5463 - 23ms/epoch - 6ms/step\n",
      "Epoch 44/100\n",
      "4/4 - 0s - loss: 4.0064 - accuracy: 0.5463 - 26ms/epoch - 7ms/step\n",
      "Epoch 45/100\n",
      "4/4 - 0s - loss: 3.9181 - accuracy: 0.5463 - 21ms/epoch - 5ms/step\n",
      "Epoch 46/100\n",
      "4/4 - 0s - loss: 3.8290 - accuracy: 0.5463 - 21ms/epoch - 5ms/step\n",
      "Epoch 47/100\n",
      "4/4 - 0s - loss: 3.7379 - accuracy: 0.5463 - 23ms/epoch - 6ms/step\n",
      "Epoch 48/100\n",
      "4/4 - 0s - loss: 3.6459 - accuracy: 0.5463 - 21ms/epoch - 5ms/step\n",
      "Epoch 49/100\n",
      "4/4 - 0s - loss: 3.5539 - accuracy: 0.5463 - 21ms/epoch - 5ms/step\n",
      "Epoch 50/100\n",
      "4/4 - 0s - loss: 3.4621 - accuracy: 0.5463 - 18ms/epoch - 4ms/step\n",
      "Epoch 51/100\n",
      "4/4 - 0s - loss: 3.3701 - accuracy: 0.5463 - 21ms/epoch - 5ms/step\n",
      "Epoch 52/100\n",
      "4/4 - 0s - loss: 3.2784 - accuracy: 0.5463 - 24ms/epoch - 6ms/step\n",
      "Epoch 53/100\n",
      "4/4 - 0s - loss: 3.1878 - accuracy: 0.5463 - 29ms/epoch - 7ms/step\n",
      "Epoch 54/100\n",
      "4/4 - 0s - loss: 3.0978 - accuracy: 0.5463 - 24ms/epoch - 6ms/step\n",
      "Epoch 55/100\n",
      "4/4 - 0s - loss: 3.0098 - accuracy: 0.5463 - 21ms/epoch - 5ms/step\n",
      "Epoch 56/100\n",
      "4/4 - 0s - loss: 2.9244 - accuracy: 0.5463 - 19ms/epoch - 5ms/step\n",
      "Epoch 57/100\n",
      "4/4 - 0s - loss: 2.8407 - accuracy: 0.5463 - 23ms/epoch - 6ms/step\n",
      "Epoch 58/100\n",
      "4/4 - 0s - loss: 2.7602 - accuracy: 0.5463 - 22ms/epoch - 5ms/step\n",
      "Epoch 59/100\n",
      "4/4 - 0s - loss: 2.6832 - accuracy: 0.5463 - 22ms/epoch - 5ms/step\n",
      "Epoch 60/100\n",
      "4/4 - 0s - loss: 2.6085 - accuracy: 0.5463 - 17ms/epoch - 4ms/step\n",
      "Epoch 61/100\n",
      "4/4 - 0s - loss: 2.5366 - accuracy: 0.5463 - 22ms/epoch - 5ms/step\n",
      "Epoch 62/100\n",
      "4/4 - 0s - loss: 2.4680 - accuracy: 0.5463 - 19ms/epoch - 5ms/step\n",
      "Epoch 63/100\n",
      "4/4 - 0s - loss: 2.4030 - accuracy: 0.5463 - 29ms/epoch - 7ms/step\n",
      "Epoch 64/100\n",
      "4/4 - 0s - loss: 2.3389 - accuracy: 0.5463 - 19ms/epoch - 5ms/step\n",
      "Epoch 65/100\n",
      "4/4 - 0s - loss: 2.2776 - accuracy: 0.5463 - 19ms/epoch - 5ms/step\n",
      "Epoch 66/100\n",
      "4/4 - 0s - loss: 2.2187 - accuracy: 0.5463 - 18ms/epoch - 5ms/step\n",
      "Epoch 67/100\n",
      "4/4 - 0s - loss: 2.1629 - accuracy: 0.5463 - 18ms/epoch - 5ms/step\n",
      "Epoch 68/100\n",
      "4/4 - 0s - loss: 2.1098 - accuracy: 0.5463 - 18ms/epoch - 5ms/step\n",
      "Epoch 69/100\n",
      "4/4 - 0s - loss: 2.0588 - accuracy: 0.5463 - 40ms/epoch - 10ms/step\n",
      "Epoch 70/100\n",
      "4/4 - 0s - loss: 2.0109 - accuracy: 0.5463 - 50ms/epoch - 12ms/step\n",
      "Epoch 71/100\n",
      "4/4 - 0s - loss: 1.9641 - accuracy: 0.5463 - 32ms/epoch - 8ms/step\n",
      "Epoch 72/100\n",
      "4/4 - 0s - loss: 1.9192 - accuracy: 0.5463 - 36ms/epoch - 9ms/step\n",
      "Epoch 73/100\n",
      "4/4 - 0s - loss: 1.8764 - accuracy: 0.5463 - 27ms/epoch - 7ms/step\n",
      "Epoch 74/100\n",
      "4/4 - 0s - loss: 1.8362 - accuracy: 0.5463 - 38ms/epoch - 10ms/step\n",
      "Epoch 75/100\n",
      "4/4 - 0s - loss: 1.7973 - accuracy: 0.5463 - 17ms/epoch - 4ms/step\n",
      "Epoch 76/100\n",
      "4/4 - 0s - loss: 1.7597 - accuracy: 0.5463 - 17ms/epoch - 4ms/step\n",
      "Epoch 77/100\n",
      "4/4 - 0s - loss: 1.7237 - accuracy: 0.5463 - 26ms/epoch - 6ms/step\n",
      "Epoch 78/100\n",
      "4/4 - 0s - loss: 1.6881 - accuracy: 0.5463 - 20ms/epoch - 5ms/step\n",
      "Epoch 79/100\n",
      "4/4 - 0s - loss: 1.6525 - accuracy: 0.5463 - 29ms/epoch - 7ms/step\n",
      "Epoch 80/100\n",
      "4/4 - 0s - loss: 1.6185 - accuracy: 0.5463 - 20ms/epoch - 5ms/step\n",
      "Epoch 81/100\n",
      "4/4 - 0s - loss: 1.5839 - accuracy: 0.5463 - 28ms/epoch - 7ms/step\n",
      "Epoch 82/100\n",
      "4/4 - 0s - loss: 1.5505 - accuracy: 0.5463 - 19ms/epoch - 5ms/step\n",
      "Epoch 83/100\n",
      "4/4 - 0s - loss: 1.5171 - accuracy: 0.5463 - 24ms/epoch - 6ms/step\n",
      "Epoch 84/100\n",
      "4/4 - 0s - loss: 1.4839 - accuracy: 0.5463 - 31ms/epoch - 8ms/step\n",
      "Epoch 85/100\n",
      "4/4 - 0s - loss: 1.4521 - accuracy: 0.5463 - 16ms/epoch - 4ms/step\n",
      "Epoch 86/100\n",
      "4/4 - 0s - loss: 1.4204 - accuracy: 0.5463 - 36ms/epoch - 9ms/step\n",
      "Epoch 87/100\n",
      "4/4 - 0s - loss: 1.3910 - accuracy: 0.5463 - 17ms/epoch - 4ms/step\n",
      "Epoch 88/100\n",
      "4/4 - 0s - loss: 1.3627 - accuracy: 0.5463 - 35ms/epoch - 9ms/step\n",
      "Epoch 89/100\n",
      "4/4 - 0s - loss: 1.3356 - accuracy: 0.5463 - 21ms/epoch - 5ms/step\n",
      "Epoch 90/100\n",
      "4/4 - 0s - loss: 1.3097 - accuracy: 0.5463 - 15ms/epoch - 4ms/step\n",
      "Epoch 91/100\n",
      "4/4 - 0s - loss: 1.2846 - accuracy: 0.5463 - 22ms/epoch - 6ms/step\n",
      "Epoch 92/100\n",
      "4/4 - 0s - loss: 1.2604 - accuracy: 0.5463 - 33ms/epoch - 8ms/step\n",
      "Epoch 93/100\n",
      "4/4 - 0s - loss: 1.2375 - accuracy: 0.5463 - 45ms/epoch - 11ms/step\n",
      "Epoch 94/100\n",
      "4/4 - 0s - loss: 1.2157 - accuracy: 0.5463 - 17ms/epoch - 4ms/step\n",
      "Epoch 95/100\n",
      "4/4 - 0s - loss: 1.1949 - accuracy: 0.5463 - 29ms/epoch - 7ms/step\n",
      "Epoch 96/100\n",
      "4/4 - 0s - loss: 1.1747 - accuracy: 0.5463 - 24ms/epoch - 6ms/step\n",
      "Epoch 97/100\n",
      "4/4 - 0s - loss: 1.1543 - accuracy: 0.5463 - 16ms/epoch - 4ms/step\n",
      "Epoch 98/100\n",
      "4/4 - 0s - loss: 1.1347 - accuracy: 0.5463 - 23ms/epoch - 6ms/step\n",
      "Epoch 99/100\n",
      "4/4 - 0s - loss: 1.1166 - accuracy: 0.5463 - 29ms/epoch - 7ms/step\n",
      "Epoch 100/100\n",
      "4/4 - 0s - loss: 1.0993 - accuracy: 0.5463 - 34ms/epoch - 9ms/step\n"
     ]
    },
    {
     "data": {
      "text/plain": [
       "<keras.src.callbacks.History at 0x20a7c3cecd0>"
      ]
     },
     "execution_count": 572,
     "metadata": {},
     "output_type": "execute_result"
    }
   ],
   "source": [
    "model.fit(train_inputs, train_targets, batch_size = batch_size, epochs = max_epochs, verbose = 2)"
   ]
  },
  {
   "cell_type": "code",
   "execution_count": null,
   "id": "c3f093e0-7bf5-4872-b86f-9dae067aee04",
   "metadata": {},
   "outputs": [],
   "source": [
    "test_loss, test_accuracy = model.evaluate(test_inputs, test_targets)"
   ]
  },
  {
   "cell_type": "code",
   "execution_count": 569,
   "id": "cec71e0c-33fd-4a83-b8b2-f82f6aa5bce0",
   "metadata": {},
   "outputs": [
    {
     "name": "stdout",
     "output_type": "stream",
     "text": [
      "Unique labels in train_targets: [-1.853 -1.725 -1.597 -1.468 -1.34  -1.212 -1.148 -1.083 -1.019 -0.955\n",
      " -0.93  -0.891 -0.84  -0.827 -0.763 -0.75  -0.737 -0.699 -0.686 -0.673\n",
      " -0.634 -0.622 -0.57  -0.558 -0.545 -0.519 -0.468 -0.455 -0.442 -0.416\n",
      " -0.378 -0.365 -0.339 -0.314 -0.301 -0.25  -0.237 -0.185 -0.147 -0.134\n",
      " -0.121 -0.057 -0.032  0.007  0.033  0.058  0.071  0.097  0.11   0.135\n",
      "  0.199  0.212  0.251  0.264  0.302  0.328  0.379  0.392  0.405  0.456\n",
      "  0.482  0.507  0.52   0.584  0.597  0.636  0.713  0.777  0.815  0.828\n",
      "  0.841  0.905  0.956  0.969  1.008  1.033  1.046  1.072  1.085  1.097\n",
      "  1.123  1.136  1.149  1.2    1.213  1.226  1.29   1.354  1.367  1.38\n",
      "  1.418  1.482  1.572  1.611  1.623  1.662  1.739  1.777  1.829  1.867\n",
      "  1.88   2.008  2.047  2.316  2.521  2.56   2.637  2.675  2.714  2.97 ]\n"
     ]
    }
   ],
   "source": [
    "import numpy as np\n",
    "\n",
    "# Check unique values in train_targets\n",
    "unique_labels = np.unique(train_targets)\n",
    "print(\"Unique labels in train_targets:\", unique_labels)\n"
   ]
  },
  {
   "cell_type": "code",
   "execution_count": 570,
   "id": "0d094ddf-fbc8-4d5a-9ea7-6f0240764ea4",
   "metadata": {},
   "outputs": [],
   "source": [
    "# Example of replacing invalid labels with 0 (or another valid class)\n",
    "valid_labels = np.where(train_targets >= 0, train_targets, 0)\n",
    "train_targets = valid_labels\n"
   ]
  },
  {
   "cell_type": "code",
   "execution_count": 571,
   "id": "0fbd51fd-85ad-45cf-99e6-1eefad55285c",
   "metadata": {},
   "outputs": [],
   "source": [
    "# Example of filtering out invalid labels\n",
    "valid_indices = train_targets >= 0\n",
    "train_inputs = train_inputs[valid_indices]\n",
    "train_targets = train_targets[valid_indices]\n"
   ]
  },
  {
   "cell_type": "code",
   "execution_count": null,
   "id": "9f6abd3b-2693-47ca-a3d1-c80a68cc20f4",
   "metadata": {},
   "outputs": [],
   "source": []
  }
 ],
 "metadata": {
  "kernelspec": {
   "display_name": "Python 3 (ipykernel)",
   "language": "python",
   "name": "python3"
  },
  "language_info": {
   "codemirror_mode": {
    "name": "ipython",
    "version": 3
   },
   "file_extension": ".py",
   "mimetype": "text/x-python",
   "name": "python",
   "nbconvert_exporter": "python",
   "pygments_lexer": "ipython3",
   "version": "3.9.20"
  }
 },
 "nbformat": 4,
 "nbformat_minor": 5
}
